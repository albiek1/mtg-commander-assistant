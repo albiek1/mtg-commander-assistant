{
 "cells": [
  {
   "cell_type": "code",
   "execution_count": 1,
   "metadata": {},
   "outputs": [
    {
     "name": "stdout",
     "output_type": "stream",
     "text": [
      "Atraxa, Praetors' Voice\n",
      "Contagion Engine\n",
      "Evolution Sage\n",
      "Inexorable Tide\n",
      "Breeding Pool\n",
      "Godless Shrine\n",
      "Hallowed Fountain\n",
      "Overgrown Tomb\n",
      "Temple Garden\n",
      "Watery Grave\n",
      "\n"
     ]
    }
   ],
   "source": [
    "from modules import deck_handler, card_handler, deck_simulator\n",
    "import numpy as np\n",
    "import pandas as pd\n",
    "\n",
    "#deck_handler.edit_deck(\"atraxa_deck\", \"+Evolution Sage\")\n",
    "#deck_handler.clean_empty(\"atraxa_deck\")\n",
    "#print(card_handler.get_card_list(\"name:tide+t:enchantment\"))\n",
    "#deck_handler.edit_deck(\"atraxa_deck\", \"+\"+card_handler.get_name(card_handler.get_card_list(\"name:tide+t:enchantment\"), 1))\n",
    "#deck_simulator.hyper_calc_fin(99, 37, 10, 3)\n",
    "#print(card_handler.get_card_as_list(\"Atraxa, Praetors' Voice\"))\n",
    "#deck_handler.create_deck(\"atraxa_advanced\")\n",
    "#deck_handler.write_to_deck(\"atraxa_advanced\", card_handler.get_card_as_list(\"Inexorable Tide\"), \"Core\")\n",
    "#deck_handler.get_average_cmc(\"atraxa_advanced\")\n",
    "#print(deck_handler.get_ramp('atraxa_advanced', \"\"))\n",
    "#print(deck_handler.get_multi_lands(\"atraxa_advanced\"))\n",
    "#print(deck_handler.get_mana_curve('atraxa_advanced'))\n",
    "#deck_handler.get_type_breakdown('atraxa_advanced')\n",
    "print(deck_handler.return_deck('atraxa_advanced.csv'))\n"
   ]
  }
 ],
 "metadata": {
  "kernelspec": {
   "display_name": "Python 3.10.6 64-bit",
   "language": "python",
   "name": "python3"
  },
  "language_info": {
   "codemirror_mode": {
    "name": "ipython",
    "version": 3
   },
   "file_extension": ".py",
   "mimetype": "text/x-python",
   "name": "python",
   "nbconvert_exporter": "python",
   "pygments_lexer": "ipython3",
   "version": "3.10.6"
  },
  "orig_nbformat": 4,
  "vscode": {
   "interpreter": {
    "hash": "32f5b0e8caae4e34632dca724c1b10c1f5281faf60ed9eb7812b6c55e019ce6c"
   }
  }
 },
 "nbformat": 4,
 "nbformat_minor": 2
}
